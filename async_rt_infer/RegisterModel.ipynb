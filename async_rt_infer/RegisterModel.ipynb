{
 "cells": [
  {
   "cell_type": "code",
   "execution_count": 3,
   "id": "2ead498e",
   "metadata": {},
   "outputs": [
    {
     "name": "stdout",
     "output_type": "stream",
     "text": [
      "sagemaker.config INFO - Not applying SDK defaults from location: /etc/xdg/sagemaker/config.yaml\n",
      "sagemaker.config INFO - Not applying SDK defaults from location: /home/ec2-user/.config/sagemaker/config.yaml\n"
     ]
    }
   ],
   "source": [
    "import time\n",
    "import os\n",
    "from sagemaker import get_execution_role, session\n",
    "import boto3\n",
    "\n",
    "region = boto3.Session().region_name\n",
    "role = get_execution_role()\n",
    "sm_client = boto3.client('sagemaker', region_name=region)"
   ]
  },
  {
   "cell_type": "markdown",
   "id": "ada7c57f",
   "metadata": {},
   "source": [
    "# Create Segmentation Model group"
   ]
  },
  {
   "cell_type": "code",
   "execution_count": 1,
   "id": "31918afe",
   "metadata": {},
   "outputs": [],
   "source": [
    "import time\n",
    "model_package_group_name = \"balloon-segemntation-nonprod-group\"\n",
    "model_package_group_input_dict = {\n",
    " \"ModelPackageGroupName\" : model_package_group_name,\n",
    " \"ModelPackageGroupDescription\" : \"Test Sample model package group\"\n",
    "}"
   ]
  },
  {
   "cell_type": "code",
   "execution_count": null,
   "id": "7d17ef7a",
   "metadata": {},
   "outputs": [],
   "source": [
    "model_package_group_name"
   ]
  },
  {
   "cell_type": "code",
   "execution_count": null,
   "id": "252d70ea",
   "metadata": {},
   "outputs": [],
   "source": [
    "create_model_package_group_response = sm_client.create_model_package_group(**model_package_group_input_dict)\n",
    "print('ModelPackageGroup Arn : {}'.format(create_model_package_group_response['ModelPackageGroupArn']))"
   ]
  },
  {
   "cell_type": "code",
   "execution_count": null,
   "id": "f58a2347",
   "metadata": {},
   "outputs": [],
   "source": [
    "## Change this to your model URI and mdoel .tar.gz use -cvzf for zipping model\n",
    "model_url = \"s3://sagemaker-us-east-1-470086202700/balloon_segemtaion_model/balloon_ins_segm.tar.gz\"\n",
    "#model_url = \"s3://sagemaker-us-east-1-xxxxxxxx/balloon_segemtaion_model/balloon_ins_segm.tar.gz\"\n",
    "image_uri=\"470086202700.dkr.ecr.us-east-1.amazonaws.com/detectron2_segmentation\"\n",
    "#image_uri=\"xxxxxxx.dkr.ecr.us-east-1.amazonaws.com/detectron2_segmentation\""
   ]
  },
  {
   "cell_type": "code",
   "execution_count": null,
   "id": "69167eeb",
   "metadata": {},
   "outputs": [],
   "source": [
    "modelpackage_inference_specification =  {\n",
    "    \"InferenceSpecification\": {\n",
    "      \"Containers\": [\n",
    "         {\n",
    "            \"Image\": image_uri,\n",
    "            \"ModelDataUrl\": model_url\n",
    "         }\n",
    "      ],\n",
    "      \"SupportedContentTypes\": [ \"json\" ],\n",
    "      \"SupportedResponseMIMETypes\": [ \"json/csv\" ],\n",
    "   }\n",
    " }\n"
   ]
  },
  {
   "cell_type": "code",
   "execution_count": null,
   "id": "aedf5886",
   "metadata": {},
   "outputs": [],
   "source": [
    "create_model_package_input_dict = {\n",
    "    \"ModelPackageGroupName\" : model_package_group_name,\n",
    "    \"ModelPackageDescription\" : \"Model to detect balloons v2\",\n",
    "    \"ModelApprovalStatus\" : \"PendingManualApproval\"\n",
    "}"
   ]
  },
  {
   "cell_type": "code",
   "execution_count": null,
   "id": "a971c7cd",
   "metadata": {},
   "outputs": [],
   "source": [
    "create_model_package_input_dict.update(modelpackage_inference_specification)"
   ]
  },
  {
   "cell_type": "code",
   "execution_count": null,
   "id": "ed03d64c",
   "metadata": {},
   "outputs": [],
   "source": [
    "create_model_package_response = sm_client.create_model_package(**create_model_package_input_dict)\n",
    "model_package_arn = create_model_package_response[\"ModelPackageArn\"]\n",
    "print('ModelPackage Version ARN : {}'.format(model_package_arn))"
   ]
  },
  {
   "cell_type": "code",
   "execution_count": 4,
   "id": "9ffdcc3b",
   "metadata": {},
   "outputs": [
    {
     "data": {
      "text/plain": [
       "{'ModelPackageSummaryList': [{'ModelPackageGroupName': 'balloon-segemntation-nonprod-group',\n",
       "   'ModelPackageVersion': 2,\n",
       "   'ModelPackageArn': 'arn:aws:sagemaker:us-east-1:470086202700:model-package/balloon-segemntation-nonprod-group/2',\n",
       "   'ModelPackageDescription': 'Model to detect balloons v2',\n",
       "   'CreationTime': datetime.datetime(2024, 8, 30, 19, 19, 31, 580000, tzinfo=tzlocal()),\n",
       "   'ModelPackageStatus': 'Completed',\n",
       "   'ModelApprovalStatus': 'Approved'},\n",
       "  {'ModelPackageGroupName': 'balloon-segemntation-nonprod-group',\n",
       "   'ModelPackageVersion': 1,\n",
       "   'ModelPackageArn': 'arn:aws:sagemaker:us-east-1:470086202700:model-package/balloon-segemntation-nonprod-group/1',\n",
       "   'ModelPackageDescription': 'Model to detect balloons',\n",
       "   'CreationTime': datetime.datetime(2024, 8, 30, 17, 18, 17, 198000, tzinfo=tzlocal()),\n",
       "   'ModelPackageStatus': 'Completed',\n",
       "   'ModelApprovalStatus': 'Approved'}],\n",
       " 'ResponseMetadata': {'RequestId': '33fc39ba-fb71-4d0c-8107-6cf697624b6f',\n",
       "  'HTTPStatusCode': 200,\n",
       "  'HTTPHeaders': {'x-amzn-requestid': '33fc39ba-fb71-4d0c-8107-6cf697624b6f',\n",
       "   'content-type': 'application/x-amz-json-1.1',\n",
       "   'content-length': '731',\n",
       "   'date': 'Tue, 03 Sep 2024 23:58:41 GMT'},\n",
       "  'RetryAttempts': 0}}"
      ]
     },
     "execution_count": 4,
     "metadata": {},
     "output_type": "execute_result"
    }
   ],
   "source": [
    "sm_client.list_model_packages(ModelPackageGroupName=model_package_group_name)"
   ]
  },
  {
   "cell_type": "markdown",
   "id": "88df87fa",
   "metadata": {},
   "source": [
    "## Approve Model "
   ]
  },
  {
   "cell_type": "code",
   "execution_count": null,
   "id": "05f7dea4",
   "metadata": {},
   "outputs": [],
   "source": [
    "model_package_update_input_dict = {\n",
    "    \"ModelPackageArn\" : model_package_arn,\n",
    "    \"ModelApprovalStatus\" : \"Approved\"\n",
    "}\n",
    "model_package_update_response = sm_client.update_model_package(**model_package_update_input_dict)"
   ]
  },
  {
   "cell_type": "code",
   "execution_count": null,
   "id": "06b59a60",
   "metadata": {},
   "outputs": [],
   "source": [
    "sm_client.list_model_packages(ModelPackageGroupName=model_package_group_name)"
   ]
  },
  {
   "cell_type": "markdown",
   "id": "f83ed1f8",
   "metadata": {},
   "source": [
    "## Create Segmentation End Point"
   ]
  },
  {
   "cell_type": "code",
   "execution_count": null,
   "id": "706e388e",
   "metadata": {},
   "outputs": [],
   "source": [
    "import sagemaker\n",
    "sagemaker_session=sagemaker.Session(default_bucket=\"sagemaker-us-east-1-470086202700\")"
   ]
  },
  {
   "cell_type": "code",
   "execution_count": null,
   "id": "ee915cea",
   "metadata": {},
   "outputs": [],
   "source": [
    "from sagemaker import ModelPackage\n",
    "from time import gmtime, strftime\n",
    "endpoint_name=\"balloon-segmentation-test\"\n",
    "model_package_arn=\"arn:aws:sagemaker:us-east-1:xxxxxx:model-package/balloon-segemntation-nonprod-group/2\""
   ]
  },
  {
   "cell_type": "code",
   "execution_count": null,
   "id": "2f94aaab",
   "metadata": {},
   "outputs": [],
   "source": [
    "model = ModelPackage(role=role, \n",
    "                     model_package_arn=model_package_arn, \n",
    "                     sagemaker_session=sagemaker_session)\n",
    "endpoint_response=model.deploy(initial_instance_count=1, instance_type=\"ml.p3.2xlarge\",endpoint_name=endpoint_name)"
   ]
  },
  {
   "cell_type": "code",
   "execution_count": null,
   "id": "d93cf899",
   "metadata": {},
   "outputs": [],
   "source": [
    "model.endpoint_name"
   ]
  },
  {
   "cell_type": "markdown",
   "id": "bd3864d1",
   "metadata": {},
   "source": [
    "## Delete Model Package and Model Group"
   ]
  },
  {
   "cell_type": "code",
   "execution_count": null,
   "id": "969dd675",
   "metadata": {},
   "outputs": [],
   "source": [
    "sm_client.delete_model_package(ModelPackageName=model_package_arn)"
   ]
  },
  {
   "cell_type": "code",
   "execution_count": null,
   "id": "994b8b99",
   "metadata": {},
   "outputs": [],
   "source": [
    "pkg_name={\n",
    "   \"ModelPackageGroupName\": model_package_group_name\n",
    "}\n",
    "delete_model_package_group_response = sm_client.delete_model_package_group(**pkg_name)\n",
    "delete_model_package_group_response"
   ]
  },
  {
   "cell_type": "code",
   "execution_count": null,
   "id": "0f02e1ce",
   "metadata": {},
   "outputs": [],
   "source": [
    "sm_client.delete_endpoint(EndpointName=model.endpoint_name)"
   ]
  }
 ],
 "metadata": {
  "kernelspec": {
   "display_name": "conda_python3",
   "language": "python",
   "name": "conda_python3"
  },
  "language_info": {
   "codemirror_mode": {
    "name": "ipython",
    "version": 3
   },
   "file_extension": ".py",
   "mimetype": "text/x-python",
   "name": "python",
   "nbconvert_exporter": "python",
   "pygments_lexer": "ipython3",
   "version": "3.10.14"
  }
 },
 "nbformat": 4,
 "nbformat_minor": 5
}
