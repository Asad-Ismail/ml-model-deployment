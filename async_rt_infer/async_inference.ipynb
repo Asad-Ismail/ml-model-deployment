{
 "cells": [
  {
   "cell_type": "code",
   "execution_count": 1,
   "id": "706a0aa4",
   "metadata": {},
   "outputs": [
    {
     "name": "stdout",
     "output_type": "stream",
     "text": [
      "sagemaker.config INFO - Not applying SDK defaults from location: /etc/xdg/sagemaker/config.yaml\n",
      "sagemaker.config INFO - Not applying SDK defaults from location: /home/ec2-user/.config/sagemaker/config.yaml\n"
     ]
    }
   ],
   "source": [
    "import time\n",
    "import os\n",
    "from sagemaker import get_execution_role, session\n",
    "import boto3\n",
    "import sagemaker\n",
    "from sagemaker import ModelPackage\n",
    "from time import gmtime, strftime\n",
    "from sagemaker.async_inference import AsyncInferenceConfig\n",
    "import cv2\n",
    "import urllib\n",
    "import time\n",
    "import json  \n",
    "from botocore.exceptions import ClientError\n",
    "\n",
    "region = boto3.Session().region_name\n",
    "role = get_execution_role()\n",
    "sm_client = boto3.client('sagemaker', region_name=region)"
   ]
  },
  {
   "cell_type": "code",
   "execution_count": 2,
   "id": "ce3777e4",
   "metadata": {},
   "outputs": [],
   "source": [
    "sagemaker_session=sagemaker.Session(default_bucket=\"sagemaker-us-east-1-470086202700\")"
   ]
  },
  {
   "cell_type": "code",
   "execution_count": null,
   "id": "c1f5c5bb",
   "metadata": {},
   "outputs": [],
   "source": [
    "model_package_arn=\"arn:aws:sagemaker:us-east-1:470086202700:model-package/tomato-phenome-nonprod/7\""
   ]
  },
  {
   "cell_type": "code",
   "execution_count": 3,
   "id": "a63be34b",
   "metadata": {},
   "outputs": [
    {
     "ename": "NameError",
     "evalue": "name 'model_package_arn' is not defined",
     "output_type": "error",
     "traceback": [
      "\u001b[0;31m---------------------------------------------------------------------------\u001b[0m",
      "\u001b[0;31mNameError\u001b[0m                                 Traceback (most recent call last)",
      "Cell \u001b[0;32mIn[3], line 2\u001b[0m\n\u001b[1;32m      1\u001b[0m model \u001b[38;5;241m=\u001b[39m ModelPackage(role\u001b[38;5;241m=\u001b[39mrole, \n\u001b[0;32m----> 2\u001b[0m                      model_package_arn\u001b[38;5;241m=\u001b[39m\u001b[43mmodel_package_arn\u001b[49m, \n\u001b[1;32m      3\u001b[0m                      sagemaker_session\u001b[38;5;241m=\u001b[39msagemaker_session)\n",
      "\u001b[0;31mNameError\u001b[0m: name 'model_package_arn' is not defined"
     ]
    }
   ],
   "source": [
    "model = ModelPackage(role=role, \n",
    "                     model_package_arn=model_package_arn, \n",
    "                     sagemaker_session=sagemaker_session)"
   ]
  },
  {
   "cell_type": "code",
   "execution_count": 4,
   "id": "ad2514f6",
   "metadata": {},
   "outputs": [],
   "source": [
    "async_config = AsyncInferenceConfig(\n",
    "    output_path='s3://sagemaker-us-east-1-470086202700/async_output/',\n",
    "    max_concurrent_invocations_per_instance=1\n",
    ")"
   ]
  },
  {
   "cell_type": "code",
   "execution_count": null,
   "id": "d356099a",
   "metadata": {},
   "outputs": [],
   "source": [
    " endpoint_name = 'ballon-segmentation-' + strftime(\"%Y-%m-%d-%H-%M-%S\", gmtime())"
   ]
  },
  {
   "cell_type": "code",
   "execution_count": null,
   "id": "5a59ac8d",
   "metadata": {},
   "outputs": [],
   "source": [
    "predictor = model.deploy(\n",
    "    initial_instance_count=1,\n",
    "    instance_type='ml.p3.2xlarge',\n",
    "    endpoint_name=endpoint_name,\n",
    "    async_inference_config=async_config\n",
    ")"
   ]
  },
  {
   "cell_type": "code",
   "execution_count": null,
   "id": "82256406",
   "metadata": {},
   "outputs": [],
   "source": [
    "waiter = sm_client.get_waiter(\"endpoint_in_service\")\n",
    "print(\"Waiting for endpoint to create...\")\n",
    "waiter.wait(EndpointName=endpoint_name)\n",
    "resp = sm_client.describe_endpoint(EndpointName=endpoint_name)\n",
    "\n",
    "print(f\"Endpoint Status: {resp['EndpointStatus']}\"),resp"
   ]
  },
  {
   "cell_type": "code",
   "execution_count": null,
   "id": "b9bd4069",
   "metadata": {},
   "outputs": [],
   "source": [
    "## Autoscaling the endpoint"
   ]
  },
  {
   "cell_type": "code",
   "execution_count": null,
   "id": "cacca9c6",
   "metadata": {},
   "outputs": [],
   "source": [
    "client = boto3.client(\n",
    "    \"application-autoscaling\"\n",
    ")  # Common class representing Application Auto Scaling for SageMaker amongst other services\n",
    "\n",
    "resource_id = (\n",
    "    \"endpoint/\" + endpoint_name + \"/variant/\" + \"AllTraffic\"\n",
    ")  # This is the format in which application autoscaling references the endpoint\n",
    "\n",
    "# Configure Autoscaling on asynchronous endpoint down to zero instances\n",
    "response = client.register_scalable_target(\n",
    "    ServiceNamespace=\"sagemaker\",\n",
    "    ResourceId=resource_id,\n",
    "    ScalableDimension=\"sagemaker:variant:DesiredInstanceCount\",\n",
    "    MinCapacity=0,\n",
    "    MaxCapacity=1,\n",
    ")\n",
    "\n",
    "response = client.put_scaling_policy(\n",
    "    PolicyName=\"Invocations-ScalingPolicy\",\n",
    "    ServiceNamespace=\"sagemaker\",  # The namespace of the AWS service that provides the resource.\n",
    "    ResourceId=resource_id,  # Endpoint name\n",
    "    ScalableDimension=\"sagemaker:variant:DesiredInstanceCount\",  # SageMaker supports only Instance Count\n",
    "    PolicyType=\"TargetTrackingScaling\",  # 'StepScaling'|'TargetTrackingScaling'\n",
    "    TargetTrackingScalingPolicyConfiguration={\n",
    "        \"TargetValue\": 1.0,  # The target value for the metric. - here the metric is - SageMakerVariantInvocationsPerInstance\n",
    "        \"PredefinedMetricSpecification\": {\n",
    "            \"PredefinedMetricType\": \"SageMakerVariantInvocationsPerInstance\"\n",
    "        },\n",
    "        \"ScaleInCooldown\": 2,  # The cooldown period helps you prevent your Auto Scaling group from launching or terminating\n",
    "        # additional instances before the effects of previous activities are visible.\n",
    "        # You can configure the length of time based on your instance startup time or other application needs.\n",
    "        # ScaleInCooldown - The amount of time, in seconds, after a scale in activity completes before another scale in activity can start.\n",
    "        \"ScaleOutCooldown\": 2  # ScaleOutCooldown - The amount of time, in seconds, after a scale out activity completes before another scale out activity can start.\n",
    "        # 'DisableScaleIn': True|False - ndicates whether scale in by the target tracking policy is disabled.\n",
    "        # If the value is true , scale in is disabled and the target tracking policy won't remove capacity from the scalable resource.\n",
    "        \"DisableScaleIn\": False \n",
    "    },\n",
    ")"
   ]
  },
  {
   "cell_type": "code",
   "execution_count": null,
   "id": "8075642e",
   "metadata": {},
   "outputs": [],
   "source": [
    "image_path=\"test_balloon.jpg\"\n",
    "img=cv2.imread(image_path)"
   ]
  },
  {
   "cell_type": "code",
   "execution_count": null,
   "id": "310d2329",
   "metadata": {},
   "outputs": [],
   "source": [
    "plt.imshow(img[...,::-1])"
   ]
  },
  {
   "cell_type": "code",
   "execution_count": null,
   "id": "4c77520d",
   "metadata": {},
   "outputs": [],
   "source": [
    "data = {\n",
    "    \"images\": img.tolist(),\n",
    "    \"batch_size\": 1\n",
    "}\n",
    "json_body = json.dumps(data)"
   ]
  },
  {
   "cell_type": "code",
   "execution_count": null,
   "id": "d8a07b03",
   "metadata": {},
   "outputs": [],
   "source": [
    "byte_size = len(json_body.encode('utf-8'))\n",
    "size_in_mb = byte_size / (1024 ** 2)\n",
    "size_in_mb"
   ]
  },
  {
   "cell_type": "code",
   "execution_count": null,
   "id": "badf5630",
   "metadata": {},
   "outputs": [],
   "source": [
    "s3 =  boto3.Session().client('s3')"
   ]
  },
  {
   "cell_type": "code",
   "execution_count": null,
   "id": "38addec4",
   "metadata": {},
   "outputs": [],
   "source": [
    "bucket_name = 'sagemaker-us-east-1-470086202700'\n",
    "file_path = 'async_inference/segm_input_data.json'\n",
    "# Upload the serialized JSON to S3\n",
    "s3.put_object(Bucket=bucket_name, Key=file_path, Body=json_body)"
   ]
  },
  {
   "cell_type": "code",
   "execution_count": null,
   "id": "74955cfb",
   "metadata": {},
   "outputs": [],
   "source": [
    "sm_runtime = boto3.Session().client('sagemaker-runtime')"
   ]
  },
  {
   "cell_type": "code",
   "execution_count": null,
   "id": "4d6d8d2f",
   "metadata": {},
   "outputs": [],
   "source": [
    "input_location = f's3://{bucket_name}/{file_path}'"
   ]
  },
  {
   "cell_type": "code",
   "execution_count": null,
   "id": "7e2dd52e",
   "metadata": {},
   "outputs": [],
   "source": [
    "response = sm_runtime.invoke_endpoint_async(\n",
    "    EndpointName=endpoint_name,\n",
    "    InputLocation=input_location\n",
    ")"
   ]
  },
  {
   "cell_type": "code",
   "execution_count": null,
   "id": "a32be24e",
   "metadata": {},
   "outputs": [],
   "source": [
    "output_location = response['OutputLocation']\n",
    "output_location"
   ]
  },
  {
   "cell_type": "code",
   "execution_count": null,
   "id": "a5fe1211",
   "metadata": {},
   "outputs": [],
   "source": [
    "def get_output(output_location):\n",
    "    output_url = urllib.parse.urlparse(output_location)\n",
    "    bucket = output_url.netloc\n",
    "    key = output_url.path[1:]\n",
    "    while True:\n",
    "        try:\n",
    "            file_content = sagemaker_session.read_s3_file(bucket=bucket, key_prefix=key)\n",
    "            data = json.loads(file_content)\n",
    "            return data  \n",
    "        except ClientError as e:\n",
    "            if e.response[\"Error\"][\"Code\"] == \"NoSuchKey\":\n",
    "                print(\"waiting for output...\")\n",
    "                time.sleep(2)\n",
    "                continue\n",
    "            raise"
   ]
  },
  {
   "cell_type": "code",
   "execution_count": 6,
   "id": "cb635118",
   "metadata": {},
   "outputs": [],
   "source": [
    "def rle_decode(rle, shape):\n",
    "    rle = np.array(rle).reshape(-1, 2)\n",
    "    run_lengths = rle[:, 0]\n",
    "    run_values = rle[:, 1]\n",
    "    pixels = np.repeat(run_values, run_lengths)\n",
    "    return pixels.reshape(shape)"
   ]
  },
  {
   "cell_type": "code",
   "execution_count": 9,
   "id": "6544b2b7",
   "metadata": {},
   "outputs": [],
   "source": [
    "def visualize_masks_and_boxes(image, masks, boxes, color=(255, 0, 0), alpha=0.5):\n",
    "    overlay = image.copy()\n",
    "    output = image.copy()\n",
    "\n",
    "    for i in range(masks.shape[0]):\n",
    "        mask = masks[i, :, :]\n",
    "        box = boxes[i, :]\n",
    "        overlay[mask > 0] = color\n",
    "        x1, y1, x2, y2 = box\n",
    "        # Draw rectangle (bounding box)\n",
    "        cv2.rectangle(output, (int(x1), int(y1)), (int(x2), int(y2)), (255,255,0), 4)\n",
    "    \n",
    "    cv2.addWeighted(overlay, alpha, output, 1 - alpha, 0, output)\n",
    "    output = cv2.cvtColor(output, cv2.COLOR_BGR2RGB)\n",
    "    plt.figure(figsize=(10, 10))\n",
    "    plt.imshow(output)\n",
    "    plt.axis('off')\n",
    "    plt.show()"
   ]
  },
  {
   "cell_type": "code",
   "execution_count": 7,
   "id": "a645673b",
   "metadata": {},
   "outputs": [
    {
     "ename": "NameError",
     "evalue": "name 'get_output' is not defined",
     "output_type": "error",
     "traceback": [
      "\u001b[0;31m---------------------------------------------------------------------------\u001b[0m",
      "\u001b[0;31mNameError\u001b[0m                                 Traceback (most recent call last)",
      "Cell \u001b[0;32mIn[7], line 1\u001b[0m\n\u001b[0;32m----> 1\u001b[0m results\u001b[38;5;241m=\u001b[39m\u001b[43mget_output\u001b[49m(output_location)\n",
      "\u001b[0;31mNameError\u001b[0m: name 'get_output' is not defined"
     ]
    }
   ],
   "source": [
    "results=get_output(output_location)"
   ]
  },
  {
   "cell_type": "code",
   "execution_count": 8,
   "id": "1bd1e78f",
   "metadata": {},
   "outputs": [
    {
     "ename": "NameError",
     "evalue": "name 'results' is not defined",
     "output_type": "error",
     "traceback": [
      "\u001b[0;31m---------------------------------------------------------------------------\u001b[0m",
      "\u001b[0;31mNameError\u001b[0m                                 Traceback (most recent call last)",
      "Cell \u001b[0;32mIn[8], line 1\u001b[0m\n\u001b[0;32m----> 1\u001b[0m \u001b[43mresults\u001b[49m\u001b[38;5;241m.\u001b[39mkeys()\n",
      "\u001b[0;31mNameError\u001b[0m: name 'results' is not defined"
     ]
    }
   ],
   "source": [
    "results.keys()"
   ]
  },
  {
   "cell_type": "code",
   "execution_count": null,
   "id": "b3f4ab95",
   "metadata": {},
   "outputs": [],
   "source": [
    "rle_masks=results[\"masks\"]\n",
    "masks_shape= results[\"mask_shape\"]\n",
    "masks=np.array([rle_decode(rle,masks_shape) for rle in rle_masks ])\n",
    "boxes=np.array(results[\"boxes\"])"
   ]
  },
  {
   "cell_type": "code",
   "execution_count": null,
   "id": "8d332c92",
   "metadata": {},
   "outputs": [],
   "source": [
    "visualize_masks_and_boxes(img,masks,boxes)"
   ]
  },
  {
   "cell_type": "code",
   "execution_count": null,
   "id": "18f3486d",
   "metadata": {},
   "outputs": [],
   "source": [
    "response = client.deregister_scalable_target(\n",
    "    ServiceNamespace=\"sagemaker\",\n",
    "    ResourceId=resource_id,\n",
    "    ScalableDimension=\"sagemaker:variant:DesiredInstanceCount\",\n",
    ")"
   ]
  },
  {
   "cell_type": "code",
   "execution_count": null,
   "id": "99e02325",
   "metadata": {},
   "outputs": [],
   "source": [
    "sm_client.delete_endpoint(EndpointName=endpoint_name)"
   ]
  }
 ],
 "metadata": {
  "kernelspec": {
   "display_name": "conda_python3",
   "language": "python",
   "name": "conda_python3"
  },
  "language_info": {
   "codemirror_mode": {
    "name": "ipython",
    "version": 3
   },
   "file_extension": ".py",
   "mimetype": "text/x-python",
   "name": "python",
   "nbconvert_exporter": "python",
   "pygments_lexer": "ipython3",
   "version": "3.10.14"
  }
 },
 "nbformat": 4,
 "nbformat_minor": 5
}
