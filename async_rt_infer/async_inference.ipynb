{
 "cells": [
  {
   "cell_type": "code",
   "execution_count": 1,
   "id": "0fd89c72",
   "metadata": {},
   "outputs": [
    {
     "name": "stdout",
     "output_type": "stream",
     "text": [
      "sagemaker.config INFO - Not applying SDK defaults from location: /etc/xdg/sagemaker/config.yaml\n",
      "sagemaker.config INFO - Not applying SDK defaults from location: /home/ec2-user/.config/sagemaker/config.yaml\n"
     ]
    }
   ],
   "source": [
    "import time\n",
    "import os\n",
    "from sagemaker import get_execution_role, session\n",
    "import boto3\n",
    "import sagemaker\n",
    "from sagemaker import ModelPackage\n",
    "from time import gmtime, strftime\n",
    "from sagemaker.async_inference import AsyncInferenceConfig\n",
    "import cv2\n",
    "import urllib\n",
    "import time\n",
    "import json  \n",
    "from botocore.exceptions import ClientError\n",
    "\n",
    "region = boto3.Session().region_name\n",
    "role = get_execution_role()\n",
    "sm_client = boto3.client('sagemaker', region_name=region)"
   ]
  },
  {
   "cell_type": "code",
   "execution_count": 2,
   "id": "f18d0a2d",
   "metadata": {},
   "outputs": [],
   "source": [
    "sagemaker_session=sagemaker.Session(default_bucket=\"sagemaker-us-east-1-470086202700\")"
   ]
  },
  {
   "cell_type": "code",
   "execution_count": null,
   "id": "ef98ff29",
   "metadata": {},
   "outputs": [],
   "source": [
    "model_package_arn=\"arn:aws:sagemaker:us-east-1:470086202700:model-package/tomato-phenome-nonprod/7\""
   ]
  },
  {
   "cell_type": "code",
   "execution_count": 3,
   "id": "302ed2b8",
   "metadata": {},
   "outputs": [
    {
     "ename": "NameError",
     "evalue": "name 'model_package_arn' is not defined",
     "output_type": "error",
     "traceback": [
      "\u001b[0;31m---------------------------------------------------------------------------\u001b[0m",
      "\u001b[0;31mNameError\u001b[0m                                 Traceback (most recent call last)",
      "Cell \u001b[0;32mIn[3], line 2\u001b[0m\n\u001b[1;32m      1\u001b[0m model \u001b[38;5;241m=\u001b[39m ModelPackage(role\u001b[38;5;241m=\u001b[39mrole, \n\u001b[0;32m----> 2\u001b[0m                      model_package_arn\u001b[38;5;241m=\u001b[39m\u001b[43mmodel_package_arn\u001b[49m, \n\u001b[1;32m      3\u001b[0m                      sagemaker_session\u001b[38;5;241m=\u001b[39msagemaker_session)\n",
      "\u001b[0;31mNameError\u001b[0m: name 'model_package_arn' is not defined"
     ]
    }
   ],
   "source": [
    "model = ModelPackage(role=role, \n",
    "                     model_package_arn=model_package_arn, \n",
    "                     sagemaker_session=sagemaker_session)"
   ]
  },
  {
   "cell_type": "code",
   "execution_count": 4,
   "id": "f10b9db2",
   "metadata": {},
   "outputs": [],
   "source": [
    "async_config = AsyncInferenceConfig(\n",
    "    output_path='s3://sagemaker-us-east-1-470086202700/async_output/',\n",
    "    max_concurrent_invocations_per_instance=1\n",
    ")"
   ]
  },
  {
   "cell_type": "code",
   "execution_count": null,
   "id": "0aba55c6",
   "metadata": {},
   "outputs": [],
   "source": [
    " endpoint_name = 'ballon-segmentation-' + strftime(\"%Y-%m-%d-%H-%M-%S\", gmtime())"
   ]
  },
  {
   "cell_type": "code",
   "execution_count": null,
   "id": "b5e441e8",
   "metadata": {},
   "outputs": [],
   "source": [
    "predictor = model.deploy(\n",
    "    initial_instance_count=1,\n",
    "    instance_type='ml.p3.2xlarge',\n",
    "    endpoint_name=endpoint_name,\n",
    "    async_inference_config=async_config\n",
    ")"
   ]
  },
  {
   "cell_type": "code",
   "execution_count": null,
   "id": "f700ad7a",
   "metadata": {},
   "outputs": [],
   "source": [
    "waiter = sm_client.get_waiter(\"endpoint_in_service\")\n",
    "print(\"Waiting for endpoint to create...\")\n",
    "waiter.wait(EndpointName=endpoint_name)\n",
    "resp = sm_client.describe_endpoint(EndpointName=endpoint_name)\n",
    "\n",
    "print(f\"Endpoint Status: {resp['EndpointStatus']}\"),resp"
   ]
  },
  {
   "cell_type": "code",
   "execution_count": null,
   "id": "b3408ea4",
   "metadata": {},
   "outputs": [],
   "source": [
    "## Autoscaling the endpoint"
   ]
  },
  {
   "cell_type": "code",
   "execution_count": null,
   "id": "91cb39ad",
   "metadata": {},
   "outputs": [],
   "source": [
    "client = boto3.client(\n",
    "    \"application-autoscaling\"\n",
    ")  # Common class representing Application Auto Scaling for SageMaker amongst other services\n",
    "\n",
    "resource_id = (\n",
    "    \"endpoint/\" + endpoint_name + \"/variant/\" + \"AllTraffic\"\n",
    ")  # This is the format in which application autoscaling references the endpoint\n",
    "\n",
    "# Configure Autoscaling on asynchronous endpoint down to zero instances\n",
    "response = client.register_scalable_target(\n",
    "    ServiceNamespace=\"sagemaker\",\n",
    "    ResourceId=resource_id,\n",
    "    ScalableDimension=\"sagemaker:variant:DesiredInstanceCount\",\n",
    "    MinCapacity=0,\n",
    "    MaxCapacity=2,\n",
    ")\n",
    "\n",
    "response = client.put_scaling_policy(\n",
    "    PolicyName=\"Invocations-ScalingPolicy\",\n",
    "    ServiceNamespace=\"sagemaker\",  # The namespace of the AWS service that provides the resource.\n",
    "    ResourceId=resource_id,  # Endpoint name\n",
    "    ScalableDimension=\"sagemaker:variant:DesiredInstanceCount\",  # SageMaker supports only Instance Count\n",
    "    PolicyType=\"TargetTrackingScaling\",  # 'StepScaling'|'TargetTrackingScaling'\n",
    "    TargetTrackingScalingPolicyConfiguration={\n",
    "        \"TargetValue\": 5.0,  # The target value for the metric. - here the metric is - SageMakerVariantInvocationsPerInstance\n",
    "        \"CustomizedMetricSpecification\": {\n",
    "            \"MetricName\": \"ApproximateBacklogSizePerInstance\",\n",
    "            \"Namespace\": \"AWS/SageMaker\",\n",
    "            \"Dimensions\": [{\"Name\": \"EndpointName\", \"Value\": endpoint_name}],\n",
    "            \"Statistic\": \"Average\",\n",
    "        },\n",
    "        \"ScaleInCooldown\": 600,  # The cooldown period helps you prevent your Auto Scaling group from launching or terminating\n",
    "        # additional instances before the effects of previous activities are visible.\n",
    "        # You can configure the length of time based on your instance startup time or other application needs.\n",
    "        # ScaleInCooldown - The amount of time, in seconds, after a scale in activity completes before another scale in activity can start.\n",
    "        \"ScaleOutCooldown\": 300  # ScaleOutCooldown - The amount of time, in seconds, after a scale out activity completes before another scale out activity can start.\n",
    "        # 'DisableScaleIn': True|False - ndicates whether scale in by the target tracking policy is disabled.\n",
    "        # If the value is true , scale in is disabled and the target tracking policy won't remove capacity from the scalable resource.\n",
    "    },\n",
    ")"
   ]
  },
  {
   "cell_type": "code",
   "execution_count": null,
   "id": "147cad98",
   "metadata": {},
   "outputs": [],
   "source": [
    "image_path=\"test_balloon.jpg\"\n",
    "img=cv2.imread(image_path)"
   ]
  },
  {
   "cell_type": "code",
   "execution_count": null,
   "id": "21d653c9",
   "metadata": {},
   "outputs": [],
   "source": [
    "plt.imshow(img[...,::-1])"
   ]
  },
  {
   "cell_type": "code",
   "execution_count": null,
   "id": "38b593eb",
   "metadata": {},
   "outputs": [],
   "source": [
    "data = {\n",
    "    \"images\": img.tolist(),\n",
    "    \"batch_size\": 1\n",
    "}\n",
    "json_body = json.dumps(data)"
   ]
  },
  {
   "cell_type": "code",
   "execution_count": null,
   "id": "e4f8566c",
   "metadata": {},
   "outputs": [],
   "source": [
    "byte_size = len(json_body.encode('utf-8'))\n",
    "size_in_mb = byte_size / (1024 ** 2)\n",
    "size_in_mb"
   ]
  },
  {
   "cell_type": "code",
   "execution_count": null,
   "id": "91e6b925",
   "metadata": {},
   "outputs": [],
   "source": [
    "s3 =  boto3.Session().client('s3')"
   ]
  },
  {
   "cell_type": "code",
   "execution_count": null,
   "id": "c40b94de",
   "metadata": {},
   "outputs": [],
   "source": [
    "bucket_name = 'sagemaker-us-east-1-470086202700'\n",
    "file_path = 'async_inference/segm_input_data.json'\n",
    "# Upload the serialized JSON to S3\n",
    "s3.put_object(Bucket=bucket_name, Key=file_path, Body=json_body)"
   ]
  },
  {
   "cell_type": "code",
   "execution_count": null,
   "id": "c84767d2",
   "metadata": {},
   "outputs": [],
   "source": [
    "sm_runtime = boto3.Session().client('sagemaker-runtime')"
   ]
  },
  {
   "cell_type": "code",
   "execution_count": null,
   "id": "9b2d468c",
   "metadata": {},
   "outputs": [],
   "source": [
    "input_location = f's3://{bucket_name}/{file_path}'"
   ]
  },
  {
   "cell_type": "code",
   "execution_count": null,
   "id": "2279bd16",
   "metadata": {},
   "outputs": [],
   "source": [
    "response = sm_runtime.invoke_endpoint_async(\n",
    "    EndpointName=endpoint_name,\n",
    "    InputLocation=input_location\n",
    ")"
   ]
  },
  {
   "cell_type": "code",
   "execution_count": null,
   "id": "91860118",
   "metadata": {},
   "outputs": [],
   "source": [
    "output_location = response['OutputLocation']\n",
    "output_location"
   ]
  },
  {
   "cell_type": "code",
   "execution_count": null,
   "id": "431ec174",
   "metadata": {},
   "outputs": [],
   "source": [
    "def get_output(output_location):\n",
    "    output_url = urllib.parse.urlparse(output_location)\n",
    "    bucket = output_url.netloc\n",
    "    key = output_url.path[1:]\n",
    "    while True:\n",
    "        try:\n",
    "            file_content = sagemaker_session.read_s3_file(bucket=bucket, key_prefix=key)\n",
    "            data = json.loads(file_content)\n",
    "            return data  \n",
    "        except ClientError as e:\n",
    "            if e.response[\"Error\"][\"Code\"] == \"NoSuchKey\":\n",
    "                print(\"waiting for output...\")\n",
    "                time.sleep(2)\n",
    "                continue\n",
    "            raise"
   ]
  },
  {
   "cell_type": "code",
   "execution_count": 6,
   "id": "6daba602",
   "metadata": {},
   "outputs": [],
   "source": [
    "def rle_decode(rle, shape):\n",
    "    rle = np.array(rle).reshape(-1, 2)\n",
    "    run_lengths = rle[:, 0]\n",
    "    run_values = rle[:, 1]\n",
    "    pixels = np.repeat(run_values, run_lengths)\n",
    "    return pixels.reshape(shape)"
   ]
  },
  {
   "cell_type": "code",
   "execution_count": 9,
   "id": "66c092ef",
   "metadata": {},
   "outputs": [],
   "source": [
    "def visualize_masks_and_boxes(image, masks, boxes, color=(255, 0, 0), alpha=0.5):\n",
    "    overlay = image.copy()\n",
    "    output = image.copy()\n",
    "\n",
    "    for i in range(masks.shape[0]):\n",
    "        mask = masks[i, :, :]\n",
    "        box = boxes[i, :]\n",
    "        overlay[mask > 0] = color\n",
    "        x1, y1, x2, y2 = box\n",
    "        # Draw rectangle (bounding box)\n",
    "        cv2.rectangle(output, (int(x1), int(y1)), (int(x2), int(y2)), (255,255,0), 4)\n",
    "    \n",
    "    cv2.addWeighted(overlay, alpha, output, 1 - alpha, 0, output)\n",
    "    output = cv2.cvtColor(output, cv2.COLOR_BGR2RGB)\n",
    "    plt.figure(figsize=(10, 10))\n",
    "    plt.imshow(output)\n",
    "    plt.axis('off')\n",
    "    plt.show()"
   ]
  },
  {
   "cell_type": "code",
   "execution_count": 7,
   "id": "ff2bb3ae",
   "metadata": {},
   "outputs": [
    {
     "ename": "NameError",
     "evalue": "name 'get_output' is not defined",
     "output_type": "error",
     "traceback": [
      "\u001b[0;31m---------------------------------------------------------------------------\u001b[0m",
      "\u001b[0;31mNameError\u001b[0m                                 Traceback (most recent call last)",
      "Cell \u001b[0;32mIn[7], line 1\u001b[0m\n\u001b[0;32m----> 1\u001b[0m results\u001b[38;5;241m=\u001b[39m\u001b[43mget_output\u001b[49m(output_location)\n",
      "\u001b[0;31mNameError\u001b[0m: name 'get_output' is not defined"
     ]
    }
   ],
   "source": [
    "results=get_output(output_location)"
   ]
  },
  {
   "cell_type": "code",
   "execution_count": 8,
   "id": "12a27549",
   "metadata": {},
   "outputs": [
    {
     "ename": "NameError",
     "evalue": "name 'results' is not defined",
     "output_type": "error",
     "traceback": [
      "\u001b[0;31m---------------------------------------------------------------------------\u001b[0m",
      "\u001b[0;31mNameError\u001b[0m                                 Traceback (most recent call last)",
      "Cell \u001b[0;32mIn[8], line 1\u001b[0m\n\u001b[0;32m----> 1\u001b[0m \u001b[43mresults\u001b[49m\u001b[38;5;241m.\u001b[39mkeys()\n",
      "\u001b[0;31mNameError\u001b[0m: name 'results' is not defined"
     ]
    }
   ],
   "source": [
    "results.keys()"
   ]
  },
  {
   "cell_type": "code",
   "execution_count": null,
   "id": "56115efa",
   "metadata": {},
   "outputs": [],
   "source": [
    "rle_masks=results[\"masks\"]\n",
    "masks_shape= results[\"mask_shape\"]\n",
    "masks=np.array([rle_decode(rle,masks_shape) for rle in rle_masks ])\n",
    "boxes=np.array(results[\"boxes\"])"
   ]
  },
  {
   "cell_type": "code",
   "execution_count": null,
   "id": "94973296",
   "metadata": {},
   "outputs": [],
   "source": [
    "visualize_masks_and_boxes(img,masks,boxes)"
   ]
  },
  {
   "cell_type": "code",
   "execution_count": null,
   "id": "90a0ef47",
   "metadata": {},
   "outputs": [],
   "source": [
    "response = client.deregister_scalable_target(\n",
    "    ServiceNamespace=\"sagemaker\",\n",
    "    ResourceId=resource_id,\n",
    "    ScalableDimension=\"sagemaker:variant:DesiredInstanceCount\",\n",
    ")"
   ]
  },
  {
   "cell_type": "code",
   "execution_count": null,
   "id": "ce12df61",
   "metadata": {},
   "outputs": [],
   "source": [
    "sm_client.delete_endpoint(EndpointName=endpoint_name)"
   ]
  }
 ],
 "metadata": {
  "kernelspec": {
   "display_name": "conda_python3",
   "language": "python",
   "name": "conda_python3"
  },
  "language_info": {
   "codemirror_mode": {
    "name": "ipython",
    "version": 3
   },
   "file_extension": ".py",
   "mimetype": "text/x-python",
   "name": "python",
   "nbconvert_exporter": "python",
   "pygments_lexer": "ipython3",
   "version": "3.10.14"
  }
 },
 "nbformat": 4,
 "nbformat_minor": 5
}
