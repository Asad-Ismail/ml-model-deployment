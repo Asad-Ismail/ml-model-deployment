{
 "cells": [
  {
   "cell_type": "code",
   "execution_count": 3,
   "id": "42b4c27c",
   "metadata": {},
   "outputs": [],
   "source": [
    "## Taken from detectron official repo only the detectron2 version is fixed to a certain commit for reproduceablity. \n",
    "## https://colab.research.google.com/drive/16jcaJoc6bCFAQ96jDe2HwtXj7BMD_-m5#scrollTo=0d288Z2mF5dC\n",
    "## See requirements.txt for more info"
   ]
  },
  {
   "cell_type": "code",
   "execution_count": 1,
   "id": "fed04bed",
   "metadata": {},
   "outputs": [
    {
     "name": "stdout",
     "output_type": "stream",
     "text": [
      "Collecting git+https://github.com/facebookresearch/detectron2.git@bcfd464 (from -r requirements.txt (line 1))\n",
      "  Cloning https://github.com/facebookresearch/detectron2.git (to revision bcfd464) to /tmp/pip-req-build-expdbw1g\n",
      "  Running command git clone --filter=blob:none --quiet https://github.com/facebookresearch/detectron2.git /tmp/pip-req-build-expdbw1g\n",
      "\u001b[33m  WARNING: Did not find branch or tag 'bcfd464', assuming revision or ref.\u001b[0m\u001b[33m\n",
      "\u001b[0m  Running command git checkout -q bcfd464\n",
      "  Resolved https://github.com/facebookresearch/detectron2.git to commit bcfd464\n",
      "  Preparing metadata (setup.py) ... \u001b[?25ldone\n",
      "\u001b[?25hRequirement already satisfied: Pillow>=7.1 in /home/ec2-user/anaconda3/envs/pytorch_p310/lib/python3.10/site-packages (from detectron2==0.6->-r requirements.txt (line 1)) (10.3.0)\n",
      "Requirement already satisfied: matplotlib in /home/ec2-user/anaconda3/envs/pytorch_p310/lib/python3.10/site-packages (from detectron2==0.6->-r requirements.txt (line 1)) (3.8.4)\n",
      "Requirement already satisfied: pycocotools>=2.0.2 in /home/ec2-user/anaconda3/envs/pytorch_p310/lib/python3.10/site-packages (from detectron2==0.6->-r requirements.txt (line 1)) (2.0.8)\n",
      "Requirement already satisfied: termcolor>=1.1 in /home/ec2-user/anaconda3/envs/pytorch_p310/lib/python3.10/site-packages (from detectron2==0.6->-r requirements.txt (line 1)) (2.4.0)\n",
      "Requirement already satisfied: yacs>=0.1.8 in /home/ec2-user/anaconda3/envs/pytorch_p310/lib/python3.10/site-packages (from detectron2==0.6->-r requirements.txt (line 1)) (0.1.8)\n",
      "Requirement already satisfied: tabulate in /home/ec2-user/anaconda3/envs/pytorch_p310/lib/python3.10/site-packages (from detectron2==0.6->-r requirements.txt (line 1)) (0.9.0)\n",
      "Requirement already satisfied: cloudpickle in /home/ec2-user/anaconda3/envs/pytorch_p310/lib/python3.10/site-packages (from detectron2==0.6->-r requirements.txt (line 1)) (2.2.1)\n",
      "Requirement already satisfied: tqdm>4.29.0 in /home/ec2-user/anaconda3/envs/pytorch_p310/lib/python3.10/site-packages (from detectron2==0.6->-r requirements.txt (line 1)) (4.66.4)\n",
      "Requirement already satisfied: tensorboard in /home/ec2-user/anaconda3/envs/pytorch_p310/lib/python3.10/site-packages (from detectron2==0.6->-r requirements.txt (line 1)) (2.17.1)\n",
      "Requirement already satisfied: fvcore<0.1.6,>=0.1.5 in /home/ec2-user/anaconda3/envs/pytorch_p310/lib/python3.10/site-packages (from detectron2==0.6->-r requirements.txt (line 1)) (0.1.5.post20221221)\n",
      "Requirement already satisfied: iopath<0.1.10,>=0.1.7 in /home/ec2-user/anaconda3/envs/pytorch_p310/lib/python3.10/site-packages (from detectron2==0.6->-r requirements.txt (line 1)) (0.1.9)\n",
      "Requirement already satisfied: omegaconf<2.4,>=2.1 in /home/ec2-user/anaconda3/envs/pytorch_p310/lib/python3.10/site-packages (from detectron2==0.6->-r requirements.txt (line 1)) (2.3.0)\n",
      "Requirement already satisfied: hydra-core>=1.1 in /home/ec2-user/anaconda3/envs/pytorch_p310/lib/python3.10/site-packages (from detectron2==0.6->-r requirements.txt (line 1)) (1.3.2)\n",
      "Requirement already satisfied: black in /home/ec2-user/anaconda3/envs/pytorch_p310/lib/python3.10/site-packages (from detectron2==0.6->-r requirements.txt (line 1)) (24.8.0)\n",
      "Requirement already satisfied: packaging in /home/ec2-user/anaconda3/envs/pytorch_p310/lib/python3.10/site-packages (from detectron2==0.6->-r requirements.txt (line 1)) (24.1)\n",
      "Requirement already satisfied: numpy in /home/ec2-user/anaconda3/envs/pytorch_p310/lib/python3.10/site-packages (from fvcore<0.1.6,>=0.1.5->detectron2==0.6->-r requirements.txt (line 1)) (1.26.4)\n",
      "Requirement already satisfied: pyyaml>=5.1 in /home/ec2-user/anaconda3/envs/pytorch_p310/lib/python3.10/site-packages (from fvcore<0.1.6,>=0.1.5->detectron2==0.6->-r requirements.txt (line 1)) (6.0.1)\n",
      "Requirement already satisfied: antlr4-python3-runtime==4.9.* in /home/ec2-user/anaconda3/envs/pytorch_p310/lib/python3.10/site-packages (from hydra-core>=1.1->detectron2==0.6->-r requirements.txt (line 1)) (4.9.3)\n",
      "Requirement already satisfied: portalocker in /home/ec2-user/anaconda3/envs/pytorch_p310/lib/python3.10/site-packages (from iopath<0.1.10,>=0.1.7->detectron2==0.6->-r requirements.txt (line 1)) (2.10.1)\n",
      "Requirement already satisfied: contourpy>=1.0.1 in /home/ec2-user/anaconda3/envs/pytorch_p310/lib/python3.10/site-packages (from matplotlib->detectron2==0.6->-r requirements.txt (line 1)) (1.2.1)\n",
      "Requirement already satisfied: cycler>=0.10 in /home/ec2-user/anaconda3/envs/pytorch_p310/lib/python3.10/site-packages (from matplotlib->detectron2==0.6->-r requirements.txt (line 1)) (0.12.1)\n",
      "Requirement already satisfied: fonttools>=4.22.0 in /home/ec2-user/anaconda3/envs/pytorch_p310/lib/python3.10/site-packages (from matplotlib->detectron2==0.6->-r requirements.txt (line 1)) (4.53.0)\n",
      "Requirement already satisfied: kiwisolver>=1.3.1 in /home/ec2-user/anaconda3/envs/pytorch_p310/lib/python3.10/site-packages (from matplotlib->detectron2==0.6->-r requirements.txt (line 1)) (1.4.5)\n",
      "Requirement already satisfied: pyparsing>=2.3.1 in /home/ec2-user/anaconda3/envs/pytorch_p310/lib/python3.10/site-packages (from matplotlib->detectron2==0.6->-r requirements.txt (line 1)) (3.1.2)\n",
      "Requirement already satisfied: python-dateutil>=2.7 in /home/ec2-user/anaconda3/envs/pytorch_p310/lib/python3.10/site-packages (from matplotlib->detectron2==0.6->-r requirements.txt (line 1)) (2.9.0)\n",
      "Requirement already satisfied: click>=8.0.0 in /home/ec2-user/anaconda3/envs/pytorch_p310/lib/python3.10/site-packages (from black->detectron2==0.6->-r requirements.txt (line 1)) (8.1.7)\n",
      "Requirement already satisfied: mypy-extensions>=0.4.3 in /home/ec2-user/anaconda3/envs/pytorch_p310/lib/python3.10/site-packages (from black->detectron2==0.6->-r requirements.txt (line 1)) (1.0.0)\n",
      "Requirement already satisfied: pathspec>=0.9.0 in /home/ec2-user/anaconda3/envs/pytorch_p310/lib/python3.10/site-packages (from black->detectron2==0.6->-r requirements.txt (line 1)) (0.12.1)\n",
      "Requirement already satisfied: platformdirs>=2 in /home/ec2-user/anaconda3/envs/pytorch_p310/lib/python3.10/site-packages (from black->detectron2==0.6->-r requirements.txt (line 1)) (4.2.2)\n",
      "Requirement already satisfied: tomli>=1.1.0 in /home/ec2-user/anaconda3/envs/pytorch_p310/lib/python3.10/site-packages (from black->detectron2==0.6->-r requirements.txt (line 1)) (2.0.1)\n",
      "Requirement already satisfied: typing-extensions>=4.0.1 in /home/ec2-user/anaconda3/envs/pytorch_p310/lib/python3.10/site-packages (from black->detectron2==0.6->-r requirements.txt (line 1)) (4.12.1)\n",
      "Requirement already satisfied: absl-py>=0.4 in /home/ec2-user/anaconda3/envs/pytorch_p310/lib/python3.10/site-packages (from tensorboard->detectron2==0.6->-r requirements.txt (line 1)) (2.1.0)\n",
      "Requirement already satisfied: grpcio>=1.48.2 in /home/ec2-user/anaconda3/envs/pytorch_p310/lib/python3.10/site-packages (from tensorboard->detectron2==0.6->-r requirements.txt (line 1)) (1.65.5)\n",
      "Requirement already satisfied: markdown>=2.6.8 in /home/ec2-user/anaconda3/envs/pytorch_p310/lib/python3.10/site-packages (from tensorboard->detectron2==0.6->-r requirements.txt (line 1)) (3.7)\n",
      "Requirement already satisfied: protobuf!=4.24.0,>=3.19.6 in /home/ec2-user/anaconda3/envs/pytorch_p310/lib/python3.10/site-packages (from tensorboard->detectron2==0.6->-r requirements.txt (line 1)) (4.25.3)\n",
      "Requirement already satisfied: setuptools>=41.0.0 in /home/ec2-user/anaconda3/envs/pytorch_p310/lib/python3.10/site-packages (from tensorboard->detectron2==0.6->-r requirements.txt (line 1)) (69.5.1)\n",
      "Requirement already satisfied: six>1.9 in /home/ec2-user/anaconda3/envs/pytorch_p310/lib/python3.10/site-packages (from tensorboard->detectron2==0.6->-r requirements.txt (line 1)) (1.16.0)\n",
      "Requirement already satisfied: tensorboard-data-server<0.8.0,>=0.7.0 in /home/ec2-user/anaconda3/envs/pytorch_p310/lib/python3.10/site-packages (from tensorboard->detectron2==0.6->-r requirements.txt (line 1)) (0.7.2)\n",
      "Requirement already satisfied: werkzeug>=1.0.1 in /home/ec2-user/anaconda3/envs/pytorch_p310/lib/python3.10/site-packages (from tensorboard->detectron2==0.6->-r requirements.txt (line 1)) (3.0.3)\n",
      "Requirement already satisfied: MarkupSafe>=2.1.1 in /home/ec2-user/anaconda3/envs/pytorch_p310/lib/python3.10/site-packages (from werkzeug>=1.0.1->tensorboard->detectron2==0.6->-r requirements.txt (line 1)) (2.1.5)\n"
     ]
    }
   ],
   "source": [
    "! pip install -r requirements.txt"
   ]
  },
  {
   "cell_type": "code",
   "execution_count": 4,
   "id": "0ff6e70a",
   "metadata": {},
   "outputs": [
    {
     "name": "stdout",
     "output_type": "stream",
     "text": [
      "nvcc: NVIDIA (R) Cuda compiler driver\n",
      "Copyright (c) 2005-2023 NVIDIA Corporation\n",
      "Built on Mon_Apr__3_17:16:06_PDT_2023\n",
      "Cuda compilation tools, release 12.1, V12.1.105\n",
      "Build cuda_12.1.r12.1/compiler.32688072_0\n",
      "torch:  1.12 ; cuda:  cu113\n",
      "detectron2: 0.6\n"
     ]
    }
   ],
   "source": [
    "import torch, detectron2\n",
    "!nvcc --version\n",
    "TORCH_VERSION = \".\".join(torch.__version__.split(\".\")[:2])\n",
    "CUDA_VERSION = torch.__version__.split(\"+\")[-1]\n",
    "print(\"torch: \", TORCH_VERSION, \"; cuda: \", CUDA_VERSION)\n",
    "print(\"detectron2:\", detectron2.__version__)"
   ]
  },
  {
   "cell_type": "code",
   "execution_count": 10,
   "id": "d758bd92",
   "metadata": {},
   "outputs": [],
   "source": [
    "import detectron2\n",
    "from detectron2.utils.logger import setup_logger\n",
    "setup_logger()\n",
    "\n",
    "import numpy as np\n",
    "import os, json, cv2, random\n",
    "import matplotlib.pyplot as plt\n",
    "\n",
    "from detectron2 import model_zoo\n",
    "from detectron2.engine import DefaultPredictor\n",
    "from detectron2.config import get_cfg\n",
    "from detectron2.utils.visualizer import Visualizer\n",
    "from detectron2.data import MetadataCatalog, DatasetCatalog"
   ]
  },
  {
   "cell_type": "code",
   "execution_count": null,
   "id": "db7242e7",
   "metadata": {},
   "outputs": [
    {
     "data": {
      "text/plain": [
       "<matplotlib.image.AxesImage at 0x7f96001bfd90>"
      ]
     },
     "execution_count": 12,
     "metadata": {},
     "output_type": "execute_result"
    }
   ],
   "source": [
    "!wget http://images.cocodataset.org/val2017/000000439715.jpg -q -O input.jpg\n",
    "im = cv2.imread(\"./input.jpg\")\n",
    "plt.imshow(im[...,::-1])"
   ]
  },
  {
   "cell_type": "code",
   "execution_count": null,
   "id": "3ac31251",
   "metadata": {},
   "outputs": [],
   "source": []
  }
 ],
 "metadata": {
  "kernelspec": {
   "display_name": "conda_pytorch_p310",
   "language": "python",
   "name": "conda_pytorch_p310"
  },
  "language_info": {
   "codemirror_mode": {
    "name": "ipython",
    "version": 3
   },
   "file_extension": ".py",
   "mimetype": "text/x-python",
   "name": "python",
   "nbconvert_exporter": "python",
   "pygments_lexer": "ipython3",
   "version": "3.10.14"
  }
 },
 "nbformat": 4,
 "nbformat_minor": 5
}
