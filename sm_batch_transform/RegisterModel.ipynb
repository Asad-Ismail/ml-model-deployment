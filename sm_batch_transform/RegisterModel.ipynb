{
 "cells": [
  {
   "cell_type": "code",
   "execution_count": 1,
   "id": "2ead498e",
   "metadata": {},
   "outputs": [
    {
     "name": "stdout",
     "output_type": "stream",
     "text": [
      "sagemaker.config INFO - Not applying SDK defaults from location: /etc/xdg/sagemaker/config.yaml\n",
      "sagemaker.config INFO - Not applying SDK defaults from location: /home/ec2-user/.config/sagemaker/config.yaml\n"
     ]
    }
   ],
   "source": [
    "import time\n",
    "import os\n",
    "from sagemaker import get_execution_role, session\n",
    "import boto3\n",
    "\n",
    "region = boto3.Session().region_name\n",
    "role = get_execution_role()\n",
    "sm_client = boto3.client('sagemaker', region_name=region)"
   ]
  },
  {
   "cell_type": "markdown",
   "id": "ada7c57f",
   "metadata": {},
   "source": [
    "# Create Segmentation Model group"
   ]
  },
  {
   "cell_type": "code",
   "execution_count": 2,
   "id": "31918afe",
   "metadata": {},
   "outputs": [],
   "source": [
    "import time\n",
    "model_package_group_name = \"balloon-segemntation-nonprod-group\"\n",
    "model_package_group_input_dict = {\n",
    " \"ModelPackageGroupName\" : model_package_group_name,\n",
    " \"ModelPackageGroupDescription\" : \"Test Sample model package group\"\n",
    "}"
   ]
  },
  {
   "cell_type": "code",
   "execution_count": 3,
   "id": "7d17ef7a",
   "metadata": {},
   "outputs": [
    {
     "data": {
      "text/plain": [
       "'balloon-segemntation-nonprod-group'"
      ]
     },
     "execution_count": 3,
     "metadata": {},
     "output_type": "execute_result"
    }
   ],
   "source": [
    "model_package_group_name"
   ]
  },
  {
   "cell_type": "code",
   "execution_count": 4,
   "id": "252d70ea",
   "metadata": {},
   "outputs": [
    {
     "ename": "ClientError",
     "evalue": "An error occurred (ValidationException) when calling the CreateModelPackageGroup operation: Model Package Group already exists: arn:aws:sagemaker:us-east-1:470086202700:model-package-group/balloon-segemntation-nonprod-group",
     "output_type": "error",
     "traceback": [
      "\u001b[0;31m---------------------------------------------------------------------------\u001b[0m",
      "\u001b[0;31mClientError\u001b[0m                               Traceback (most recent call last)",
      "Cell \u001b[0;32mIn[4], line 1\u001b[0m\n\u001b[0;32m----> 1\u001b[0m create_model_package_group_response \u001b[38;5;241m=\u001b[39m \u001b[43msm_client\u001b[49m\u001b[38;5;241;43m.\u001b[39;49m\u001b[43mcreate_model_package_group\u001b[49m\u001b[43m(\u001b[49m\u001b[38;5;241;43m*\u001b[39;49m\u001b[38;5;241;43m*\u001b[39;49m\u001b[43mmodel_package_group_input_dict\u001b[49m\u001b[43m)\u001b[49m\n\u001b[1;32m      2\u001b[0m \u001b[38;5;28mprint\u001b[39m(\u001b[38;5;124m'\u001b[39m\u001b[38;5;124mModelPackageGroup Arn : \u001b[39m\u001b[38;5;132;01m{}\u001b[39;00m\u001b[38;5;124m'\u001b[39m\u001b[38;5;241m.\u001b[39mformat(create_model_package_group_response[\u001b[38;5;124m'\u001b[39m\u001b[38;5;124mModelPackageGroupArn\u001b[39m\u001b[38;5;124m'\u001b[39m]))\n",
      "File \u001b[0;32m~/anaconda3/envs/python3/lib/python3.10/site-packages/botocore/client.py:565\u001b[0m, in \u001b[0;36mClientCreator._create_api_method.<locals>._api_call\u001b[0;34m(self, *args, **kwargs)\u001b[0m\n\u001b[1;32m    561\u001b[0m     \u001b[38;5;28;01mraise\u001b[39;00m \u001b[38;5;167;01mTypeError\u001b[39;00m(\n\u001b[1;32m    562\u001b[0m         \u001b[38;5;124mf\u001b[39m\u001b[38;5;124m\"\u001b[39m\u001b[38;5;132;01m{\u001b[39;00mpy_operation_name\u001b[38;5;132;01m}\u001b[39;00m\u001b[38;5;124m() only accepts keyword arguments.\u001b[39m\u001b[38;5;124m\"\u001b[39m\n\u001b[1;32m    563\u001b[0m     )\n\u001b[1;32m    564\u001b[0m \u001b[38;5;66;03m# The \"self\" in this scope is referring to the BaseClient.\u001b[39;00m\n\u001b[0;32m--> 565\u001b[0m \u001b[38;5;28;01mreturn\u001b[39;00m \u001b[38;5;28;43mself\u001b[39;49m\u001b[38;5;241;43m.\u001b[39;49m\u001b[43m_make_api_call\u001b[49m\u001b[43m(\u001b[49m\u001b[43moperation_name\u001b[49m\u001b[43m,\u001b[49m\u001b[43m \u001b[49m\u001b[43mkwargs\u001b[49m\u001b[43m)\u001b[49m\n",
      "File \u001b[0;32m~/anaconda3/envs/python3/lib/python3.10/site-packages/botocore/client.py:1021\u001b[0m, in \u001b[0;36mBaseClient._make_api_call\u001b[0;34m(self, operation_name, api_params)\u001b[0m\n\u001b[1;32m   1017\u001b[0m     error_code \u001b[38;5;241m=\u001b[39m error_info\u001b[38;5;241m.\u001b[39mget(\u001b[38;5;124m\"\u001b[39m\u001b[38;5;124mQueryErrorCode\u001b[39m\u001b[38;5;124m\"\u001b[39m) \u001b[38;5;129;01mor\u001b[39;00m error_info\u001b[38;5;241m.\u001b[39mget(\n\u001b[1;32m   1018\u001b[0m         \u001b[38;5;124m\"\u001b[39m\u001b[38;5;124mCode\u001b[39m\u001b[38;5;124m\"\u001b[39m\n\u001b[1;32m   1019\u001b[0m     )\n\u001b[1;32m   1020\u001b[0m     error_class \u001b[38;5;241m=\u001b[39m \u001b[38;5;28mself\u001b[39m\u001b[38;5;241m.\u001b[39mexceptions\u001b[38;5;241m.\u001b[39mfrom_code(error_code)\n\u001b[0;32m-> 1021\u001b[0m     \u001b[38;5;28;01mraise\u001b[39;00m error_class(parsed_response, operation_name)\n\u001b[1;32m   1022\u001b[0m \u001b[38;5;28;01melse\u001b[39;00m:\n\u001b[1;32m   1023\u001b[0m     \u001b[38;5;28;01mreturn\u001b[39;00m parsed_response\n",
      "\u001b[0;31mClientError\u001b[0m: An error occurred (ValidationException) when calling the CreateModelPackageGroup operation: Model Package Group already exists: arn:aws:sagemaker:us-east-1:470086202700:model-package-group/balloon-segemntation-nonprod-group"
     ]
    }
   ],
   "source": [
    "create_model_package_group_response = sm_client.create_model_package_group(**model_package_group_input_dict)\n",
    "print('ModelPackageGroup Arn : {}'.format(create_model_package_group_response['ModelPackageGroupArn']))"
   ]
  },
  {
   "cell_type": "code",
   "execution_count": 5,
   "id": "f58a2347",
   "metadata": {},
   "outputs": [],
   "source": [
    "## Change this to your model URI and mdoel .tar.gz use -cvzf for zipping model\n",
    "model_url = \"s3://sagemaker-us-east-1-470086202700/balloon_segemtaion_model/balloon_ins_segm.tar.gz\"\n",
    "#model_url = \"s3://sagemaker-us-east-1-xxxxxxxx/balloon_segemtaion_model/balloon_ins_segm.tar.gz\"\n",
    "image_uri=\"470086202700.dkr.ecr.us-east-1.amazonaws.com/detectron2_segmentation_bt\"\n",
    "#image_uri=\"xxxxxxx.dkr.ecr.us-east-1.amazonaws.com/detectron2_segmentation\""
   ]
  },
  {
   "cell_type": "code",
   "execution_count": 6,
   "id": "69167eeb",
   "metadata": {},
   "outputs": [],
   "source": [
    "modelpackage_inference_specification =  {\n",
    "    \"InferenceSpecification\": {\n",
    "      \"Containers\": [\n",
    "         {\n",
    "            \"Image\": image_uri,\n",
    "            \"ModelDataUrl\": model_url\n",
    "         }\n",
    "      ],\n",
    "      \"SupportedContentTypes\": [ \"json\" ],\n",
    "      \"SupportedResponseMIMETypes\": [ \"json/csv\" ],\n",
    "   }\n",
    " }\n"
   ]
  },
  {
   "cell_type": "code",
   "execution_count": 7,
   "id": "aedf5886",
   "metadata": {},
   "outputs": [],
   "source": [
    "create_model_package_input_dict = {\n",
    "    \"ModelPackageGroupName\" : model_package_group_name,\n",
    "    \"ModelPackageDescription\" : \"Batch transform Model to detect balloons\",\n",
    "    \"ModelApprovalStatus\" : \"PendingManualApproval\"\n",
    "}"
   ]
  },
  {
   "cell_type": "code",
   "execution_count": 8,
   "id": "a971c7cd",
   "metadata": {},
   "outputs": [],
   "source": [
    "create_model_package_input_dict.update(modelpackage_inference_specification)"
   ]
  },
  {
   "cell_type": "code",
   "execution_count": 9,
   "id": "ed03d64c",
   "metadata": {},
   "outputs": [
    {
     "name": "stdout",
     "output_type": "stream",
     "text": [
      "ModelPackage Version ARN : arn:aws:sagemaker:us-east-1:470086202700:model-package/balloon-segemntation-nonprod-group/12\n"
     ]
    }
   ],
   "source": [
    "create_model_package_response = sm_client.create_model_package(**create_model_package_input_dict)\n",
    "model_package_arn = create_model_package_response[\"ModelPackageArn\"]\n",
    "print('ModelPackage Version ARN : {}'.format(model_package_arn))"
   ]
  },
  {
   "cell_type": "code",
   "execution_count": 10,
   "id": "9ffdcc3b",
   "metadata": {},
   "outputs": [
    {
     "data": {
      "text/plain": [
       "{'ModelPackageSummaryList': [{'ModelPackageGroupName': 'balloon-segemntation-nonprod-group',\n",
       "   'ModelPackageVersion': 12,\n",
       "   'ModelPackageArn': 'arn:aws:sagemaker:us-east-1:470086202700:model-package/balloon-segemntation-nonprod-group/12',\n",
       "   'ModelPackageDescription': 'Batch transform Model to detect balloons',\n",
       "   'CreationTime': datetime.datetime(2024, 9, 10, 17, 58, 17, 580000, tzinfo=tzlocal()),\n",
       "   'ModelPackageStatus': 'Completed',\n",
       "   'ModelApprovalStatus': 'PendingManualApproval'},\n",
       "  {'ModelPackageGroupName': 'balloon-segemntation-nonprod-group',\n",
       "   'ModelPackageVersion': 11,\n",
       "   'ModelPackageArn': 'arn:aws:sagemaker:us-east-1:470086202700:model-package/balloon-segemntation-nonprod-group/11',\n",
       "   'ModelPackageDescription': 'Batch transform Model to detect balloons',\n",
       "   'CreationTime': datetime.datetime(2024, 9, 10, 14, 38, 56, 640000, tzinfo=tzlocal()),\n",
       "   'ModelPackageStatus': 'Completed',\n",
       "   'ModelApprovalStatus': 'Approved'},\n",
       "  {'ModelPackageGroupName': 'balloon-segemntation-nonprod-group',\n",
       "   'ModelPackageVersion': 10,\n",
       "   'ModelPackageArn': 'arn:aws:sagemaker:us-east-1:470086202700:model-package/balloon-segemntation-nonprod-group/10',\n",
       "   'ModelPackageDescription': 'Batch transform Model to detect balloons',\n",
       "   'CreationTime': datetime.datetime(2024, 9, 10, 13, 21, 13, 514000, tzinfo=tzlocal()),\n",
       "   'ModelPackageStatus': 'Completed',\n",
       "   'ModelApprovalStatus': 'Approved'},\n",
       "  {'ModelPackageGroupName': 'balloon-segemntation-nonprod-group',\n",
       "   'ModelPackageVersion': 9,\n",
       "   'ModelPackageArn': 'arn:aws:sagemaker:us-east-1:470086202700:model-package/balloon-segemntation-nonprod-group/9',\n",
       "   'ModelPackageDescription': 'Batch transform Model to detect balloons',\n",
       "   'CreationTime': datetime.datetime(2024, 9, 10, 11, 9, 22, 156000, tzinfo=tzlocal()),\n",
       "   'ModelPackageStatus': 'Completed',\n",
       "   'ModelApprovalStatus': 'Approved'},\n",
       "  {'ModelPackageGroupName': 'balloon-segemntation-nonprod-group',\n",
       "   'ModelPackageVersion': 8,\n",
       "   'ModelPackageArn': 'arn:aws:sagemaker:us-east-1:470086202700:model-package/balloon-segemntation-nonprod-group/8',\n",
       "   'ModelPackageDescription': 'Batch transform Model to detect balloons',\n",
       "   'CreationTime': datetime.datetime(2024, 9, 9, 23, 17, 41, 363000, tzinfo=tzlocal()),\n",
       "   'ModelPackageStatus': 'Completed',\n",
       "   'ModelApprovalStatus': 'Approved'},\n",
       "  {'ModelPackageGroupName': 'balloon-segemntation-nonprod-group',\n",
       "   'ModelPackageVersion': 7,\n",
       "   'ModelPackageArn': 'arn:aws:sagemaker:us-east-1:470086202700:model-package/balloon-segemntation-nonprod-group/7',\n",
       "   'ModelPackageDescription': 'Batch transform Model to detect balloons',\n",
       "   'CreationTime': datetime.datetime(2024, 9, 9, 22, 32, 2, 152000, tzinfo=tzlocal()),\n",
       "   'ModelPackageStatus': 'Completed',\n",
       "   'ModelApprovalStatus': 'Approved'},\n",
       "  {'ModelPackageGroupName': 'balloon-segemntation-nonprod-group',\n",
       "   'ModelPackageVersion': 6,\n",
       "   'ModelPackageArn': 'arn:aws:sagemaker:us-east-1:470086202700:model-package/balloon-segemntation-nonprod-group/6',\n",
       "   'ModelPackageDescription': 'Batch transform Model to detect balloons',\n",
       "   'CreationTime': datetime.datetime(2024, 9, 9, 21, 58, 57, 540000, tzinfo=tzlocal()),\n",
       "   'ModelPackageStatus': 'Completed',\n",
       "   'ModelApprovalStatus': 'Approved'},\n",
       "  {'ModelPackageGroupName': 'balloon-segemntation-nonprod-group',\n",
       "   'ModelPackageVersion': 5,\n",
       "   'ModelPackageArn': 'arn:aws:sagemaker:us-east-1:470086202700:model-package/balloon-segemntation-nonprod-group/5',\n",
       "   'ModelPackageDescription': 'Batch transform Model to detect balloons',\n",
       "   'CreationTime': datetime.datetime(2024, 9, 7, 23, 21, 52, 81000, tzinfo=tzlocal()),\n",
       "   'ModelPackageStatus': 'Completed',\n",
       "   'ModelApprovalStatus': 'Approved'},\n",
       "  {'ModelPackageGroupName': 'balloon-segemntation-nonprod-group',\n",
       "   'ModelPackageVersion': 4,\n",
       "   'ModelPackageArn': 'arn:aws:sagemaker:us-east-1:470086202700:model-package/balloon-segemntation-nonprod-group/4',\n",
       "   'ModelPackageDescription': 'Batch transform Model to detect balloons',\n",
       "   'CreationTime': datetime.datetime(2024, 9, 6, 23, 28, 36, 259000, tzinfo=tzlocal()),\n",
       "   'ModelPackageStatus': 'Completed',\n",
       "   'ModelApprovalStatus': 'Approved'},\n",
       "  {'ModelPackageGroupName': 'balloon-segemntation-nonprod-group',\n",
       "   'ModelPackageVersion': 3,\n",
       "   'ModelPackageArn': 'arn:aws:sagemaker:us-east-1:470086202700:model-package/balloon-segemntation-nonprod-group/3',\n",
       "   'ModelPackageDescription': 'Batch transform Model to detect balloons',\n",
       "   'CreationTime': datetime.datetime(2024, 9, 4, 12, 23, 57, 949000, tzinfo=tzlocal()),\n",
       "   'ModelPackageStatus': 'Completed',\n",
       "   'ModelApprovalStatus': 'Approved'},\n",
       "  {'ModelPackageGroupName': 'balloon-segemntation-nonprod-group',\n",
       "   'ModelPackageVersion': 2,\n",
       "   'ModelPackageArn': 'arn:aws:sagemaker:us-east-1:470086202700:model-package/balloon-segemntation-nonprod-group/2',\n",
       "   'ModelPackageDescription': 'Model to detect balloons v2',\n",
       "   'CreationTime': datetime.datetime(2024, 8, 30, 19, 19, 31, 580000, tzinfo=tzlocal()),\n",
       "   'ModelPackageStatus': 'Completed',\n",
       "   'ModelApprovalStatus': 'Approved'},\n",
       "  {'ModelPackageGroupName': 'balloon-segemntation-nonprod-group',\n",
       "   'ModelPackageVersion': 1,\n",
       "   'ModelPackageArn': 'arn:aws:sagemaker:us-east-1:470086202700:model-package/balloon-segemntation-nonprod-group/1',\n",
       "   'ModelPackageDescription': 'Model to detect balloons',\n",
       "   'CreationTime': datetime.datetime(2024, 8, 30, 17, 18, 17, 198000, tzinfo=tzlocal()),\n",
       "   'ModelPackageStatus': 'Completed',\n",
       "   'ModelApprovalStatus': 'Approved'}],\n",
       " 'ResponseMetadata': {'RequestId': 'd3e52e5a-55f4-4868-ae44-5ae117dca666',\n",
       "  'HTTPStatusCode': 200,\n",
       "  'HTTPHeaders': {'x-amzn-requestid': 'd3e52e5a-55f4-4868-ae44-5ae117dca666',\n",
       "   'content-type': 'application/x-amz-json-1.1',\n",
       "   'content-length': '4407',\n",
       "   'date': 'Tue, 10 Sep 2024 17:58:16 GMT'},\n",
       "  'RetryAttempts': 0}}"
      ]
     },
     "execution_count": 10,
     "metadata": {},
     "output_type": "execute_result"
    }
   ],
   "source": [
    "sm_client.list_model_packages(ModelPackageGroupName=model_package_group_name)"
   ]
  },
  {
   "cell_type": "markdown",
   "id": "88df87fa",
   "metadata": {},
   "source": [
    "## Approve Model "
   ]
  },
  {
   "cell_type": "code",
   "execution_count": 11,
   "id": "05f7dea4",
   "metadata": {},
   "outputs": [],
   "source": [
    "model_package_update_input_dict = {\n",
    "    \"ModelPackageArn\" : model_package_arn,\n",
    "    \"ModelApprovalStatus\" : \"Approved\"\n",
    "}\n",
    "model_package_update_response = sm_client.update_model_package(**model_package_update_input_dict)"
   ]
  },
  {
   "cell_type": "code",
   "execution_count": 12,
   "id": "06b59a60",
   "metadata": {},
   "outputs": [
    {
     "data": {
      "text/plain": [
       "{'ModelPackageSummaryList': [{'ModelPackageGroupName': 'balloon-segemntation-nonprod-group',\n",
       "   'ModelPackageVersion': 12,\n",
       "   'ModelPackageArn': 'arn:aws:sagemaker:us-east-1:470086202700:model-package/balloon-segemntation-nonprod-group/12',\n",
       "   'ModelPackageDescription': 'Batch transform Model to detect balloons',\n",
       "   'CreationTime': datetime.datetime(2024, 9, 10, 17, 58, 17, 580000, tzinfo=tzlocal()),\n",
       "   'ModelPackageStatus': 'Completed',\n",
       "   'ModelApprovalStatus': 'Approved'},\n",
       "  {'ModelPackageGroupName': 'balloon-segemntation-nonprod-group',\n",
       "   'ModelPackageVersion': 11,\n",
       "   'ModelPackageArn': 'arn:aws:sagemaker:us-east-1:470086202700:model-package/balloon-segemntation-nonprod-group/11',\n",
       "   'ModelPackageDescription': 'Batch transform Model to detect balloons',\n",
       "   'CreationTime': datetime.datetime(2024, 9, 10, 14, 38, 56, 640000, tzinfo=tzlocal()),\n",
       "   'ModelPackageStatus': 'Completed',\n",
       "   'ModelApprovalStatus': 'Approved'},\n",
       "  {'ModelPackageGroupName': 'balloon-segemntation-nonprod-group',\n",
       "   'ModelPackageVersion': 10,\n",
       "   'ModelPackageArn': 'arn:aws:sagemaker:us-east-1:470086202700:model-package/balloon-segemntation-nonprod-group/10',\n",
       "   'ModelPackageDescription': 'Batch transform Model to detect balloons',\n",
       "   'CreationTime': datetime.datetime(2024, 9, 10, 13, 21, 13, 514000, tzinfo=tzlocal()),\n",
       "   'ModelPackageStatus': 'Completed',\n",
       "   'ModelApprovalStatus': 'Approved'},\n",
       "  {'ModelPackageGroupName': 'balloon-segemntation-nonprod-group',\n",
       "   'ModelPackageVersion': 9,\n",
       "   'ModelPackageArn': 'arn:aws:sagemaker:us-east-1:470086202700:model-package/balloon-segemntation-nonprod-group/9',\n",
       "   'ModelPackageDescription': 'Batch transform Model to detect balloons',\n",
       "   'CreationTime': datetime.datetime(2024, 9, 10, 11, 9, 22, 156000, tzinfo=tzlocal()),\n",
       "   'ModelPackageStatus': 'Completed',\n",
       "   'ModelApprovalStatus': 'Approved'},\n",
       "  {'ModelPackageGroupName': 'balloon-segemntation-nonprod-group',\n",
       "   'ModelPackageVersion': 8,\n",
       "   'ModelPackageArn': 'arn:aws:sagemaker:us-east-1:470086202700:model-package/balloon-segemntation-nonprod-group/8',\n",
       "   'ModelPackageDescription': 'Batch transform Model to detect balloons',\n",
       "   'CreationTime': datetime.datetime(2024, 9, 9, 23, 17, 41, 363000, tzinfo=tzlocal()),\n",
       "   'ModelPackageStatus': 'Completed',\n",
       "   'ModelApprovalStatus': 'Approved'},\n",
       "  {'ModelPackageGroupName': 'balloon-segemntation-nonprod-group',\n",
       "   'ModelPackageVersion': 7,\n",
       "   'ModelPackageArn': 'arn:aws:sagemaker:us-east-1:470086202700:model-package/balloon-segemntation-nonprod-group/7',\n",
       "   'ModelPackageDescription': 'Batch transform Model to detect balloons',\n",
       "   'CreationTime': datetime.datetime(2024, 9, 9, 22, 32, 2, 152000, tzinfo=tzlocal()),\n",
       "   'ModelPackageStatus': 'Completed',\n",
       "   'ModelApprovalStatus': 'Approved'},\n",
       "  {'ModelPackageGroupName': 'balloon-segemntation-nonprod-group',\n",
       "   'ModelPackageVersion': 6,\n",
       "   'ModelPackageArn': 'arn:aws:sagemaker:us-east-1:470086202700:model-package/balloon-segemntation-nonprod-group/6',\n",
       "   'ModelPackageDescription': 'Batch transform Model to detect balloons',\n",
       "   'CreationTime': datetime.datetime(2024, 9, 9, 21, 58, 57, 540000, tzinfo=tzlocal()),\n",
       "   'ModelPackageStatus': 'Completed',\n",
       "   'ModelApprovalStatus': 'Approved'},\n",
       "  {'ModelPackageGroupName': 'balloon-segemntation-nonprod-group',\n",
       "   'ModelPackageVersion': 5,\n",
       "   'ModelPackageArn': 'arn:aws:sagemaker:us-east-1:470086202700:model-package/balloon-segemntation-nonprod-group/5',\n",
       "   'ModelPackageDescription': 'Batch transform Model to detect balloons',\n",
       "   'CreationTime': datetime.datetime(2024, 9, 7, 23, 21, 52, 81000, tzinfo=tzlocal()),\n",
       "   'ModelPackageStatus': 'Completed',\n",
       "   'ModelApprovalStatus': 'Approved'},\n",
       "  {'ModelPackageGroupName': 'balloon-segemntation-nonprod-group',\n",
       "   'ModelPackageVersion': 4,\n",
       "   'ModelPackageArn': 'arn:aws:sagemaker:us-east-1:470086202700:model-package/balloon-segemntation-nonprod-group/4',\n",
       "   'ModelPackageDescription': 'Batch transform Model to detect balloons',\n",
       "   'CreationTime': datetime.datetime(2024, 9, 6, 23, 28, 36, 259000, tzinfo=tzlocal()),\n",
       "   'ModelPackageStatus': 'Completed',\n",
       "   'ModelApprovalStatus': 'Approved'},\n",
       "  {'ModelPackageGroupName': 'balloon-segemntation-nonprod-group',\n",
       "   'ModelPackageVersion': 3,\n",
       "   'ModelPackageArn': 'arn:aws:sagemaker:us-east-1:470086202700:model-package/balloon-segemntation-nonprod-group/3',\n",
       "   'ModelPackageDescription': 'Batch transform Model to detect balloons',\n",
       "   'CreationTime': datetime.datetime(2024, 9, 4, 12, 23, 57, 949000, tzinfo=tzlocal()),\n",
       "   'ModelPackageStatus': 'Completed',\n",
       "   'ModelApprovalStatus': 'Approved'},\n",
       "  {'ModelPackageGroupName': 'balloon-segemntation-nonprod-group',\n",
       "   'ModelPackageVersion': 2,\n",
       "   'ModelPackageArn': 'arn:aws:sagemaker:us-east-1:470086202700:model-package/balloon-segemntation-nonprod-group/2',\n",
       "   'ModelPackageDescription': 'Model to detect balloons v2',\n",
       "   'CreationTime': datetime.datetime(2024, 8, 30, 19, 19, 31, 580000, tzinfo=tzlocal()),\n",
       "   'ModelPackageStatus': 'Completed',\n",
       "   'ModelApprovalStatus': 'Approved'},\n",
       "  {'ModelPackageGroupName': 'balloon-segemntation-nonprod-group',\n",
       "   'ModelPackageVersion': 1,\n",
       "   'ModelPackageArn': 'arn:aws:sagemaker:us-east-1:470086202700:model-package/balloon-segemntation-nonprod-group/1',\n",
       "   'ModelPackageDescription': 'Model to detect balloons',\n",
       "   'CreationTime': datetime.datetime(2024, 8, 30, 17, 18, 17, 198000, tzinfo=tzlocal()),\n",
       "   'ModelPackageStatus': 'Completed',\n",
       "   'ModelApprovalStatus': 'Approved'}],\n",
       " 'ResponseMetadata': {'RequestId': 'ef636e8d-c495-4855-b2cc-16f2ff8f2186',\n",
       "  'HTTPStatusCode': 200,\n",
       "  'HTTPHeaders': {'x-amzn-requestid': 'ef636e8d-c495-4855-b2cc-16f2ff8f2186',\n",
       "   'content-type': 'application/x-amz-json-1.1',\n",
       "   'content-length': '4394',\n",
       "   'date': 'Tue, 10 Sep 2024 17:58:17 GMT'},\n",
       "  'RetryAttempts': 0}}"
      ]
     },
     "execution_count": 12,
     "metadata": {},
     "output_type": "execute_result"
    }
   ],
   "source": [
    "sm_client.list_model_packages(ModelPackageGroupName=model_package_group_name)"
   ]
  },
  {
   "cell_type": "markdown",
   "id": "f83ed1f8",
   "metadata": {},
   "source": [
    "## Create Segmentation End Point"
   ]
  },
  {
   "cell_type": "code",
   "execution_count": null,
   "id": "706e388e",
   "metadata": {},
   "outputs": [],
   "source": [
    "import sagemaker\n",
    "sagemaker_session=sagemaker.Session(default_bucket=\"sagemaker-us-east-1-470086202700\")"
   ]
  },
  {
   "cell_type": "code",
   "execution_count": null,
   "id": "ee915cea",
   "metadata": {},
   "outputs": [],
   "source": [
    "from sagemaker import ModelPackage\n",
    "from time import gmtime, strftime\n",
    "endpoint_name=\"balloon-segmentation-test\"\n",
    "model_package_arn=\"arn:aws:sagemaker:us-east-1:xxxxxx:model-package/balloon-segemntation-nonprod-group/2\""
   ]
  },
  {
   "cell_type": "code",
   "execution_count": null,
   "id": "2f94aaab",
   "metadata": {},
   "outputs": [],
   "source": [
    "model = ModelPackage(role=role, \n",
    "                     model_package_arn=model_package_arn, \n",
    "                     sagemaker_session=sagemaker_session)\n",
    "endpoint_response=model.deploy(initial_instance_count=1, instance_type=\"ml.p3.2xlarge\",endpoint_name=endpoint_name)"
   ]
  },
  {
   "cell_type": "code",
   "execution_count": null,
   "id": "d93cf899",
   "metadata": {},
   "outputs": [],
   "source": [
    "model.endpoint_name"
   ]
  },
  {
   "cell_type": "markdown",
   "id": "bd3864d1",
   "metadata": {},
   "source": [
    "## Delete Model Package and Model Group"
   ]
  },
  {
   "cell_type": "code",
   "execution_count": null,
   "id": "969dd675",
   "metadata": {},
   "outputs": [],
   "source": [
    "sm_client.delete_model_package(ModelPackageName=model_package_arn)"
   ]
  },
  {
   "cell_type": "code",
   "execution_count": null,
   "id": "994b8b99",
   "metadata": {},
   "outputs": [],
   "source": [
    "pkg_name={\n",
    "   \"ModelPackageGroupName\": model_package_group_name\n",
    "}\n",
    "delete_model_package_group_response = sm_client.delete_model_package_group(**pkg_name)\n",
    "delete_model_package_group_response"
   ]
  },
  {
   "cell_type": "code",
   "execution_count": null,
   "id": "0f02e1ce",
   "metadata": {},
   "outputs": [],
   "source": [
    "sm_client.delete_endpoint(EndpointName=model.endpoint_name)"
   ]
  }
 ],
 "metadata": {
  "kernelspec": {
   "display_name": "conda_python3",
   "language": "python",
   "name": "conda_python3"
  },
  "language_info": {
   "codemirror_mode": {
    "name": "ipython",
    "version": 3
   },
   "file_extension": ".py",
   "mimetype": "text/x-python",
   "name": "python",
   "nbconvert_exporter": "python",
   "pygments_lexer": "ipython3",
   "version": "3.10.14"
  }
 },
 "nbformat": 4,
 "nbformat_minor": 5
}
